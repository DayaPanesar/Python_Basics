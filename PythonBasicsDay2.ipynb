{
 "cells": [
  {
   "cell_type": "markdown",
   "id": "13edfa73-fd5d-46c5-9d6d-d66992dd6cfc",
   "metadata": {},
   "source": [
    "#### Area of a circle caluclator"
   ]
  },
  {
   "cell_type": "code",
   "execution_count": 26,
   "id": "5c3eb79e-2903-4429-aab0-09d97a6c3e0d",
   "metadata": {},
   "outputs": [
    {
     "name": "stdin",
     "output_type": "stream",
     "text": [
      "Please enter the radius of the circle: 8\n"
     ]
    },
    {
     "name": "stdout",
     "output_type": "stream",
     "text": [
      "The area of the circle is {201.06192982974676}\n"
     ]
    }
   ],
   "source": [
    "radius=float(input(\"Please enter the radius of the circle:\"))\n",
    "print(f\"The area of the circle is\", {math.pi*(radius**2)}) # f before string and using {} around our variables\n",
    "# to provide better syntax when adding variable to strings"
   ]
  },
  {
   "cell_type": "code",
   "execution_count": 16,
   "id": "9ad5543b-2a07-4761-b59b-cb741be342ea",
   "metadata": {},
   "outputs": [],
   "source": [
    "import math"
   ]
  },
  {
   "cell_type": "markdown",
   "id": "99bd9a1b-b1ed-4541-9241-638eb2640480",
   "metadata": {},
   "source": [
    "#### Operator Shortcuts"
   ]
  },
  {
   "cell_type": "code",
   "execution_count": 30,
   "id": "fb03bea9-cc28-4341-bc4f-a8c7cada9b04",
   "metadata": {},
   "outputs": [
    {
     "name": "stdout",
     "output_type": "stream",
     "text": [
      "3\n"
     ]
    }
   ],
   "source": [
    "x = 2\n",
    "x += 1 # same as x = x + 1\n",
    "print(x)"
   ]
  },
  {
   "cell_type": "code",
   "execution_count": 34,
   "id": "0097232d-208f-4a4b-8215-fc5379a7aa68",
   "metadata": {},
   "outputs": [
    {
     "data": {
      "text/plain": [
       "28"
      ]
     },
     "execution_count": 34,
     "metadata": {},
     "output_type": "execute_result"
    }
   ],
   "source": [
    "#this code could be used to get the size of the variable in the memory\n",
    "import sys\n",
    "sys.getsizeof(x)"
   ]
  },
  {
   "cell_type": "code",
   "execution_count": 36,
   "id": "4273041d-5641-4383-99e5-9dc0da696192",
   "metadata": {},
   "outputs": [
    {
     "name": "stdout",
     "output_type": "stream",
     "text": [
      "25\n"
     ]
    }
   ],
   "source": [
    "y = 5\n",
    "y **= 2 # same as y = y **2\n",
    "print(y)"
   ]
  },
  {
   "cell_type": "code",
   "execution_count": 40,
   "id": "c9ef7df0-62bb-4dda-b0c9-c19fc4dd602f",
   "metadata": {},
   "outputs": [
    {
     "name": "stdout",
     "output_type": "stream",
     "text": [
      "False\n",
      "True\n"
     ]
    }
   ],
   "source": [
    "z = 3 #assigning operator\n",
    "print(z == 5) #comaparison operator\n",
    "print(z == 3)"
   ]
  },
  {
   "cell_type": "markdown",
   "id": "e6c000b0-c00e-45fd-bef0-08da917f8893",
   "metadata": {},
   "source": [
    "##### 100 Number Task"
   ]
  },
  {
   "cell_type": "code",
   "execution_count": 57,
   "id": "03ef155a-0179-4007-9892-c0b2ac531a21",
   "metadata": {},
   "outputs": [
    {
     "name": "stdin",
     "output_type": "stream",
     "text": [
      "enter a whole number: 101\n"
     ]
    },
    {
     "name": "stdout",
     "output_type": "stream",
     "text": [
      "True\n"
     ]
    }
   ],
   "source": [
    "n=int(input(\"enter a whole number:\"))\n",
    "print(n>=100)"
   ]
  },
  {
   "cell_type": "code",
   "execution_count": 63,
   "id": "6dc72365-f992-4061-8c45-b960f628af46",
   "metadata": {},
   "outputs": [
    {
     "name": "stdin",
     "output_type": "stream",
     "text": [
      "enter a number: 77\n",
      "enter a another number: 9\n"
     ]
    },
    {
     "name": "stdout",
     "output_type": "stream",
     "text": [
      "77.0 is greater than 9.0\n"
     ]
    }
   ],
   "source": [
    "#comparison between two numbers\n",
    "one=float(input(\"enter a number:\"))\n",
    "two=float(input(\"enter a another number:\"))\n",
    "if one==two:\n",
    "          print(\"The two numbers are the equal to each other\")\n",
    "elif one<two:\n",
    "          print(one, \"is less than\", two)\n",
    "elif one>two:\n",
    "          print(one, \"is greater than\", two)"
   ]
  },
  {
   "cell_type": "code",
   "execution_count": null,
   "id": "966ebccc-aefb-4f19-b3aa-d187528876af",
   "metadata": {},
   "outputs": [
    {
     "name": "stdin",
     "output_type": "stream",
     "text": [
      "please enter a number to test if it is positive, negative or zero -88\n"
     ]
    },
    {
     "name": "stdout",
     "output_type": "stream",
     "text": [
      "negative\n"
     ]
    }
   ],
   "source": [
    "#task to check if number is positive, negative or zero\n",
    "num=float(input(\"please enter a number to test if it is positive, negative or zero\"))\n",
    "\n",
    "if num < 0:\n",
    "    print(\"negative\")\n",
    "elif num > 0:\n",
    "    print(\"positive\")\n",
    "else:\n",
    "    print(\"zero\")"
   ]
  },
  {
   "cell_type": "code",
   "execution_count": null,
   "id": "11d20721-33c5-4b26-8d04-681ae7c76806",
   "metadata": {},
   "outputs": [
    {
     "name": "stdin",
     "output_type": "stream",
     "text": [
      "enter a number to see if it is odd or even: 98\n"
     ]
    },
    {
     "name": "stdout",
     "output_type": "stream",
     "text": [
      "even\n"
     ]
    }
   ],
   "source": [
    "#task to check if number is odd or even\n",
    "number = float(input(\"enter a number to see if it is odd or even:\"))\n",
    "if number % 2 == 0:\n",
    "    print(\"even\")\n",
    "else:\n",
    "    print(\"odd\")"
   ]
  },
  {
   "cell_type": "markdown",
   "id": "c742f07e-f8e5-42b8-9c36-29cabc1c2cb2",
   "metadata": {},
   "source": [
    "#### While Loops"
   ]
  },
  {
   "cell_type": "code",
   "execution_count": 126,
   "id": "e903448f-ee92-4bd1-9b37-b0ab6a06ddec",
   "metadata": {},
   "outputs": [
    {
     "name": "stdout",
     "output_type": "stream",
     "text": [
      "1\n",
      "3\n",
      "5\n",
      "7\n",
      "9\n"
     ]
    }
   ],
   "source": [
    "#gives odd numbers under 10\n",
    "a=0\n",
    "while a<10:\n",
    "    a+=1\n",
    "    if a%2 !=0:\n",
    "        print(a)"
   ]
  },
  {
   "cell_type": "code",
   "execution_count": 156,
   "id": "10b36864-73a1-42df-a708-e49769af400e",
   "metadata": {},
   "outputs": [
    {
     "name": "stdin",
     "output_type": "stream",
     "text": [
      "enter a number 1-10\n",
      "find out if you can guess my number: 8\n",
      "guess again: 1\n"
     ]
    },
    {
     "name": "stdout",
     "output_type": "stream",
     "text": [
      "little higher\n"
     ]
    },
    {
     "name": "stdin",
     "output_type": "stream",
     "text": [
      "guess again: 5\n"
     ]
    },
    {
     "name": "stdout",
     "output_type": "stream",
     "text": [
      "little higher\n"
     ]
    },
    {
     "name": "stdin",
     "output_type": "stream",
     "text": [
      "guess again: 7\n"
     ]
    },
    {
     "name": "stdout",
     "output_type": "stream",
     "text": [
      "little higher\n"
     ]
    },
    {
     "name": "stdin",
     "output_type": "stream",
     "text": [
      "guess again: 9\n"
     ]
    },
    {
     "name": "stdout",
     "output_type": "stream",
     "text": [
      "well done! my number was 9\n"
     ]
    }
   ],
   "source": [
    "#game that takes a number from the user and compares to a number that\n",
    "#was assigned, then gives the user a 'little higher' or little lower' message everytime\n",
    "#they make another guess\n",
    "import random\n",
    "guess=int(input(\"enter a number 1-10\\nfind out if you can guess my number:\"))\n",
    "ans=random.randint(1,10)\n",
    "while guess!=ans:\n",
    "    guess=(int(input(\"guess again:\")))\n",
    "    if guess<ans:\n",
    "        print(\"little higher\")\n",
    "    elif guess>ans:\n",
    "        print(\"little lower\")\n",
    "print(\"well done! my number was\",ans)"
   ]
  },
  {
   "cell_type": "markdown",
   "id": "c24e9a38-f081-4cf8-af59-c2303440d5f0",
   "metadata": {
    "tags": []
   },
   "source": [
    "### for function"
   ]
  },
  {
   "cell_type": "code",
   "execution_count": 169,
   "id": "03d7d700-0e24-4751-8260-3039367ae03d",
   "metadata": {},
   "outputs": [
    {
     "name": "stdout",
     "output_type": "stream",
     "text": [
      "apple\n",
      "orange\n",
      "banana\n"
     ]
    }
   ],
   "source": [
    "#lists\n",
    "\n",
    "fruits=[\"apple\", \"orange\", \"banana\"]\n",
    "for i in fruits:\n",
    "    print(i)"
   ]
  },
  {
   "cell_type": "code",
   "execution_count": 160,
   "id": "db425bcf-4b93-4a7a-b651-b24e40b505b2",
   "metadata": {},
   "outputs": [
    {
     "name": "stdout",
     "output_type": "stream",
     "text": [
      "2\n",
      "4\n",
      "6\n",
      "8\n",
      "10\n",
      "12\n",
      "14\n",
      "16\n",
      "18\n",
      "20\n"
     ]
    }
   ],
   "source": [
    "#print all the even numbers 1-20\n",
    "\n",
    "for i in range(1, 21):\n",
    "    if i % 2 == 0:\n",
    "        print(i)"
   ]
  },
  {
   "cell_type": "code",
   "execution_count": 162,
   "id": "c2e9b354-f2aa-40fc-ba84-0190360f3ad9",
   "metadata": {},
   "outputs": [
    {
     "name": "stdout",
     "output_type": "stream",
     "text": [
      "7\n",
      "14\n"
     ]
    }
   ],
   "source": [
    "#print multiples of 7 up to 20\n",
    "\n",
    "for i in range(1,21):\n",
    "    if i%7==0:\n",
    "        print(i)"
   ]
  },
  {
   "cell_type": "code",
   "execution_count": 179,
   "id": "2fe39185-9e2f-4dd2-9a3a-39bc0c4b738f",
   "metadata": {},
   "outputs": [
    {
     "name": "stdout",
     "output_type": "stream",
     "text": [
      "0\n",
      "2\n",
      "4\n",
      "6\n",
      "8\n",
      "10\n",
      "12\n",
      "14\n",
      "16\n",
      "18\n",
      "20\n"
     ]
    }
   ],
   "source": [
    "#increase in a range in steps\n",
    "#even numbers\n",
    "for i in range(0,21,2):\n",
    "    print(i)"
   ]
  },
  {
   "cell_type": "code",
   "execution_count": 177,
   "id": "73ef7cc7-5951-4ec5-a9f0-8dcecee933f9",
   "metadata": {},
   "outputs": [
    {
     "name": "stdout",
     "output_type": "stream",
     "text": [
      "1\n",
      "3\n",
      "5\n",
      "7\n",
      "9\n",
      "11\n",
      "13\n",
      "15\n",
      "17\n",
      "19\n"
     ]
    }
   ],
   "source": [
    "#odd numbers\n",
    "for i in range(1,21,2):\n",
    "    print(i)"
   ]
  },
  {
   "cell_type": "code",
   "execution_count": null,
   "id": "67fe9d91-86e2-44ed-92ad-773093c0a986",
   "metadata": {},
   "outputs": [],
   "source": [
    "# write a python program to calculate the sum of the numbers between 5 and 10"
   ]
  },
  {
   "cell_type": "code",
   "execution_count": 201,
   "id": "8dc634b0-39d6-437e-ad1e-955e24fa922d",
   "metadata": {},
   "outputs": [
    {
     "name": "stdout",
     "output_type": "stream",
     "text": [
      "45\n"
     ]
    }
   ],
   "source": [
    "#class solution\n",
    "total=0\n",
    "for i in range (5,11):\n",
    "    total+=i\n",
    "print(total)"
   ]
  },
  {
   "cell_type": "code",
   "execution_count": 197,
   "id": "154dd483-b093-44ab-ad8e-70ebb9fb359c",
   "metadata": {},
   "outputs": [
    {
     "name": "stdout",
     "output_type": "stream",
     "text": [
      "The sum of numbers between 5 and 10 is: 45\n"
     ]
    }
   ],
   "source": [
    "#ai generated solution\n",
    "start = 5\n",
    "end = 10\n",
    "sum_of_numbers = 0\n",
    "\n",
    "for num in range(start, end+1):\n",
    "    sum_of_numbers += num\n",
    "\n",
    "print(\"The sum of numbers between\", start, \"and\", end, \"is:\", sum_of_numbers)"
   ]
  },
  {
   "cell_type": "code",
   "execution_count": 217,
   "id": "20dd6f18-a633-413e-9d38-cb0c6cd33a6b",
   "metadata": {},
   "outputs": [
    {
     "name": "stdout",
     "output_type": "stream",
     "text": [
      "1\n",
      "2\n",
      "3 fizz\n",
      "4\n",
      "5 buzz\n",
      "6 fizz\n",
      "7\n",
      "8\n",
      "9 fizz\n",
      "10 buzz\n",
      "11\n",
      "12 fizz\n",
      "13\n",
      "14\n",
      "15 fizzbuzz\n",
      "16\n",
      "17\n",
      "18 fizz\n",
      "19\n",
      "20 buzz\n",
      "21 fizz\n",
      "22\n",
      "23\n",
      "24 fizz\n",
      "25 buzz\n",
      "26\n",
      "27 fizz\n",
      "28\n",
      "29\n",
      "30 fizzbuzz\n",
      "31\n",
      "32\n",
      "33 fizz\n",
      "34\n",
      "35 buzz\n",
      "36 fizz\n",
      "37\n",
      "38\n",
      "39 fizz\n",
      "40 buzz\n",
      "41\n",
      "42 fizz\n",
      "43\n",
      "44\n",
      "45 fizzbuzz\n",
      "46\n",
      "47\n",
      "48 fizz\n",
      "49\n",
      "50 buzz\n",
      "51 fizz\n",
      "52\n",
      "53\n",
      "54 fizz\n",
      "55 buzz\n",
      "56\n",
      "57 fizz\n",
      "58\n",
      "59\n",
      "60 fizzbuzz\n",
      "61\n",
      "62\n",
      "63 fizz\n",
      "64\n",
      "65 buzz\n",
      "66 fizz\n",
      "67\n",
      "68\n",
      "69 fizz\n",
      "70 buzz\n",
      "71\n",
      "72 fizz\n",
      "73\n",
      "74\n",
      "75 fizzbuzz\n",
      "76\n",
      "77\n",
      "78 fizz\n",
      "79\n",
      "80 buzz\n",
      "81 fizz\n",
      "82\n",
      "83\n",
      "84 fizz\n",
      "85 buzz\n",
      "86\n",
      "87 fizz\n",
      "88\n",
      "89\n",
      "90 fizzbuzz\n",
      "91\n",
      "92\n",
      "93 fizz\n",
      "94\n",
      "95 buzz\n",
      "96 fizz\n",
      "97\n",
      "98\n",
      "99 fizz\n",
      "100 buzz\n"
     ]
    }
   ],
   "source": [
    "#go through integers 1-100\n",
    "#if number is divisible by 3 print \"fizz\"\n",
    "#if number is divisible by 5 print \"buzz\"\n",
    "#if number is divisible by 3 and 5 print \"fizzbuzz\"\n",
    "#otherwise just print number\n",
    "\n",
    "for i in range(1,101):\n",
    "    if i%3==0 and i%5==0:\n",
    "        print(i,\"fizzbuzz\")\n",
    "    elif i%5==0:\n",
    "        print(i,\"buzz\")\n",
    "    elif i%3==0:\n",
    "        print(i,\"fizz\")\n",
    "    else:\n",
    "        print(i)\n"
   ]
  }
 ],
 "metadata": {
  "kernelspec": {
   "display_name": "anaconda-panel-2023.05-py310",
   "language": "python",
   "name": "conda-env-anaconda-panel-2023.05-py310-py"
  },
  "language_info": {
   "codemirror_mode": {
    "name": "ipython",
    "version": 3
   },
   "file_extension": ".py",
   "mimetype": "text/x-python",
   "name": "python",
   "nbconvert_exporter": "python",
   "pygments_lexer": "ipython3",
   "version": "3.11.4"
  }
 },
 "nbformat": 4,
 "nbformat_minor": 5
}
