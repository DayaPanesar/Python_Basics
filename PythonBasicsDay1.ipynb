{
 "cells": [
  {
   "cell_type": "markdown",
   "id": "83a5d899-57c7-46d7-b2f3-51cdd6c9bc8f",
   "metadata": {
    "tags": []
   },
   "source": [
    "#### Print Functions and its Arguments"
   ]
  },
  {
   "cell_type": "code",
   "execution_count": 4,
   "id": "ace7e912-c60e-4e21-9cc6-0a3d6b57bf33",
   "metadata": {},
   "outputs": [
    {
     "name": "stdout",
     "output_type": "stream",
     "text": [
      "Hello World!\n",
      "2023\n",
      "3.14\n"
     ]
    }
   ],
   "source": [
    "print(\"Hello World!\") #prints the contents of the brackets\n",
    "print(2023)\n",
    "print(3.14)"
   ]
  },
  {
   "cell_type": "markdown",
   "id": "09347b36-6f8d-4913-b5b1-e7b82df1498c",
   "metadata": {},
   "source": [
    "#### Type() Function"
   ]
  },
  {
   "cell_type": "code",
   "execution_count": 11,
   "id": "ad939005-2396-4fdd-a8b8-493f4475257e",
   "metadata": {},
   "outputs": [
    {
     "name": "stdout",
     "output_type": "stream",
     "text": [
      "<class 'str'>\n",
      "<class 'int'>\n",
      "<class 'float'>\n",
      "<class 'bool'>\n"
     ]
    }
   ],
   "source": [
    "print(type(\"Hello World!\")) \n",
    "print(type(2023))\n",
    "print(type(3.14))\n",
    "print(type(True)) #produces the data type of the items in the container"
   ]
  },
  {
   "cell_type": "markdown",
   "id": "4df0ae17-891c-426d-97d5-ddd4a208e3a7",
   "metadata": {},
   "source": [
    "#### Length() Function"
   ]
  },
  {
   "cell_type": "code",
   "execution_count": 16,
   "id": "bfd09017-9039-4fe8-bf17-4a19e71bd0a2",
   "metadata": {},
   "outputs": [
    {
     "name": "stdout",
     "output_type": "stream",
     "text": [
      "6\n",
      "7\n"
     ]
    }
   ],
   "source": [
    "print(len(\"JustIT\")) #returns the number of items in a container\n",
    "                     #can only use for str type data\n",
    "print(len(\"Just IT\")) #in len() space \" \" counts as a character"
   ]
  },
  {
   "cell_type": "code",
   "execution_count": 18,
   "id": "3e8b6302-f6c1-473c-9888-f0f27c74f66a",
   "metadata": {},
   "outputs": [
    {
     "name": "stdout",
     "output_type": "stream",
     "text": [
      "15\n"
     ]
    }
   ],
   "source": [
    "print(len(\"DayaKaurPanesar\"))"
   ]
  },
  {
   "cell_type": "code",
   "execution_count": 20,
   "id": "85869fb1-29cb-43a0-9bd0-3bfd7590d785",
   "metadata": {},
   "outputs": [
    {
     "name": "stdout",
     "output_type": "stream",
     "text": [
      "11\n"
     ]
    }
   ],
   "source": [
    "print(len(\"DayaPanesar\"))"
   ]
  },
  {
   "cell_type": "markdown",
   "id": "94ba881f-d6ba-44df-b1a0-a18b71f2a6c4",
   "metadata": {},
   "source": [
    "###### Exercise find out country with the longest offical name"
   ]
  },
  {
   "cell_type": "code",
   "execution_count": 23,
   "id": "f09d3069-f4ba-4a1a-a567-68c2620b0bb0",
   "metadata": {},
   "outputs": [
    {
     "name": "stdout",
     "output_type": "stream",
     "text": [
      "45\n"
     ]
    }
   ],
   "source": [
    "print(len(\"UnitedKingdomofGreatBritainandNorthernIreland\"))"
   ]
  },
  {
   "cell_type": "markdown",
   "id": "fc957769-670a-456d-87e0-23969af30436",
   "metadata": {},
   "source": [
    "#### Escape Character in Python"
   ]
  },
  {
   "cell_type": "code",
   "execution_count": 30,
   "id": "72815823-546a-43e3-b5fc-4f71a7a6c2d1",
   "metadata": {},
   "outputs": [
    {
     "name": "stdout",
     "output_type": "stream",
     "text": [
      "My father's car is black\n"
     ]
    }
   ],
   "source": [
    "print('My father\\'s car is black')\n",
    "#whatever is directly after the backlash will be ignored by python\n"
   ]
  },
  {
   "cell_type": "markdown",
   "id": "f4ae5c4b-d06e-421d-aee7-3c23af20bd90",
   "metadata": {},
   "source": [
    "##### New line and Tabs"
   ]
  },
  {
   "cell_type": "code",
   "execution_count": 39,
   "id": "df5105db-1819-4880-8bfe-14e70721b56c",
   "metadata": {},
   "outputs": [
    {
     "name": "stdout",
     "output_type": "stream",
     "text": [
      "Hi. My name is Daya. I am learning Python\n"
     ]
    }
   ],
   "source": [
    "print(\"Hi. My name is Daya. I am learning Python\")"
   ]
  },
  {
   "cell_type": "code",
   "execution_count": 41,
   "id": "7111aa41-f213-4180-8a90-6f67cbd82252",
   "metadata": {},
   "outputs": [
    {
     "name": "stdout",
     "output_type": "stream",
     "text": [
      "Hi. My name is Daya.\n",
      "I am learning Python\n"
     ]
    }
   ],
   "source": [
    "# to split into two seperate lines without using print() twice\n",
    "# you can use \\n\n",
    "print(\"Hi. My name is Daya.\\nI am learning Python\")"
   ]
  },
  {
   "cell_type": "code",
   "execution_count": 45,
   "id": "e6a46348-077c-4136-9e34-abcb2beddc61",
   "metadata": {},
   "outputs": [
    {
     "name": "stdout",
     "output_type": "stream",
     "text": [
      "Hi.\tMy name is Daya.\tI am learning Python\n"
     ]
    }
   ],
   "source": [
    "# to make a tab(3 spaces) between the sentences use \\t\n",
    "print(\"Hi.\\tMy name is Daya.\\tI am learning Python\")"
   ]
  },
  {
   "cell_type": "markdown",
   "id": "a04fc086-6954-4e40-b01f-588346c22dbf",
   "metadata": {},
   "source": [
    "#### Print Multiple Arguments"
   ]
  },
  {
   "cell_type": "code",
   "execution_count": 48,
   "id": "987d7037-ad8f-45d8-bd66-d5aafa24b55f",
   "metadata": {},
   "outputs": [
    {
     "name": "stdout",
     "output_type": "stream",
     "text": [
      "I am 21 years old\n"
     ]
    }
   ],
   "source": [
    "print(\"I am\", 21,\"years old\") #seperate with commas"
   ]
  },
  {
   "cell_type": "code",
   "execution_count": 50,
   "id": "b60d40cb-f4c4-4cb5-82cd-18eb3c04e3da",
   "metadata": {},
   "outputs": [
    {
     "name": "stdout",
     "output_type": "stream",
     "text": [
      "Am I 21 years old? True or False\n"
     ]
    }
   ],
   "source": [
    "print(\"Am I 21 years old?\", True,\"or\", False)"
   ]
  },
  {
   "cell_type": "code",
   "execution_count": 52,
   "id": "ead51722-c77c-4be9-a1cb-b7afe67894e5",
   "metadata": {},
   "outputs": [
    {
     "name": "stdout",
     "output_type": "stream",
     "text": [
      "happy birthday\n"
     ]
    }
   ],
   "source": [
    "print(\"happy\",\"birthday\")"
   ]
  },
  {
   "cell_type": "code",
   "execution_count": 54,
   "id": "46c8ff0d-f836-4067-9332-e8b868256178",
   "metadata": {},
   "outputs": [
    {
     "name": "stdout",
     "output_type": "stream",
     "text": [
      "happybirthday\n"
     ]
    }
   ],
   "source": [
    "print(\"happy\" + \"birthday\")"
   ]
  },
  {
   "cell_type": "markdown",
   "id": "5f124c16-cce5-4c2f-978c-6336d90a2ded",
   "metadata": {},
   "source": [
    "#### Arithmetic Operators"
   ]
  },
  {
   "cell_type": "code",
   "execution_count": 58,
   "id": "236c583c-5761-4476-87a1-1e267149f754",
   "metadata": {},
   "outputs": [
    {
     "name": "stdout",
     "output_type": "stream",
     "text": [
      "13\n",
      "4\n"
     ]
    }
   ],
   "source": [
    "print(10+3) #addition\n",
    "print(6-2) #subtraction"
   ]
  },
  {
   "cell_type": "code",
   "execution_count": 74,
   "id": "1bc6c9b3-df85-456c-a1eb-ec91bb2eb6a3",
   "metadata": {},
   "outputs": [
    {
     "name": "stdout",
     "output_type": "stream",
     "text": [
      "20\n",
      "4.5\n"
     ]
    }
   ],
   "source": [
    "print(4*5) #multiplication\n",
    "print(36/8) #division"
   ]
  },
  {
   "cell_type": "code",
   "execution_count": 76,
   "id": "9186a81d-334a-4cf7-9e40-855b2cc19b80",
   "metadata": {},
   "outputs": [
    {
     "name": "stdout",
     "output_type": "stream",
     "text": [
      "3\n",
      "1\n"
     ]
    }
   ],
   "source": [
    "print(10//3) #only produces quotient - floor decimal\n",
    "print(10%3) #only produces remainder - modulous"
   ]
  },
  {
   "cell_type": "code",
   "execution_count": 78,
   "id": "51c7db10-f62f-4232-90d7-dc9b7b119f44",
   "metadata": {},
   "outputs": [
    {
     "name": "stdout",
     "output_type": "stream",
     "text": [
      "81\n"
     ]
    }
   ],
   "source": [
    "print(3**4) #exponentiation e.g., 3^4"
   ]
  },
  {
   "cell_type": "markdown",
   "id": "3605fc7b-c02b-4768-a1cc-e1bed465f8db",
   "metadata": {},
   "source": [
    "#### Variables"
   ]
  },
  {
   "cell_type": "code",
   "execution_count": 80,
   "id": "ccbd07e3-ba64-47e8-a3bf-47f56725ff82",
   "metadata": {},
   "outputs": [
    {
     "name": "stdout",
     "output_type": "stream",
     "text": [
      "30\n"
     ]
    }
   ],
   "source": [
    "num1=5\n",
    "num2=6\n",
    "sum=num1*num2\n",
    "print(sum)"
   ]
  },
  {
   "cell_type": "code",
   "execution_count": 82,
   "id": "40dab708-5aec-4d52-bb0e-1a94720f3be0",
   "metadata": {},
   "outputs": [
    {
     "name": "stdout",
     "output_type": "stream",
     "text": [
      "Daya\n",
      "<class 'str'>\n",
      "4\n"
     ]
    }
   ],
   "source": [
    "my_name=\"Daya\"\n",
    "print(my_name)\n",
    "print(type(my_name))\n",
    "print(len(my_name))"
   ]
  },
  {
   "cell_type": "markdown",
   "id": "bd9019d8-983d-4f1f-b426-803e09b076c1",
   "metadata": {},
   "source": [
    "#### Input()"
   ]
  },
  {
   "cell_type": "code",
   "execution_count": 88,
   "id": "a9d0e8f9-9604-439d-8024-5893ff79aecd",
   "metadata": {},
   "outputs": [
    {
     "name": "stdout",
     "output_type": "stream",
     "text": [
      "Tell me anything...\n"
     ]
    },
    {
     "name": "stdin",
     "output_type": "stream",
     "text": [
      " I am sleepy\n"
     ]
    },
    {
     "name": "stdout",
     "output_type": "stream",
     "text": [
      "Hmm... I am sleepy ...really?\n"
     ]
    }
   ],
   "source": [
    "#option 1\n",
    "print(\"Tell me anything...\")\n",
    "anything=input()\n",
    "print(\"Hmm...\", anything, \"...really?\")"
   ]
  },
  {
   "cell_type": "code",
   "execution_count": 92,
   "id": "f15c7237-6edc-4143-9837-201f5e688e22",
   "metadata": {},
   "outputs": [
    {
     "name": "stdin",
     "output_type": "stream",
     "text": [
      "Tell me anything... blahblah\n"
     ]
    },
    {
     "name": "stdout",
     "output_type": "stream",
     "text": [
      "Hmm... blahblah ...really?\n"
     ]
    }
   ],
   "source": [
    "#option 2\n",
    "anything2=input(\"Tell me anything...\")\n",
    "print(\"Hmm...\", anything2, \"...really?\")"
   ]
  },
  {
   "cell_type": "code",
   "execution_count": 94,
   "id": "42a7c7d0-79f5-461d-a446-0314200884d8",
   "metadata": {},
   "outputs": [
    {
     "name": "stdout",
     "output_type": "stream",
     "text": [
      "What is your name?\n"
     ]
    },
    {
     "name": "stdin",
     "output_type": "stream",
     "text": [
      " Daya\n"
     ]
    },
    {
     "name": "stdout",
     "output_type": "stream",
     "text": [
      "Your name is... Daya\n"
     ]
    }
   ],
   "source": [
    "#option 3\n",
    "print(\"What is your name?\")\n",
    "print(\"Your name is...\",input())"
   ]
  },
  {
   "cell_type": "markdown",
   "id": "da3dc766-c474-4ed0-9eca-5c345b25093c",
   "metadata": {},
   "source": [
    "#### Type Conversion Casting"
   ]
  },
  {
   "cell_type": "code",
   "execution_count": 105,
   "id": "b7762874-20f8-443d-a604-ac8c87933098",
   "metadata": {},
   "outputs": [
    {
     "name": "stdin",
     "output_type": "stream",
     "text": [
      "enter a number: 8\n"
     ]
    },
    {
     "name": "stdout",
     "output_type": "stream",
     "text": [
      "8.0 to the power of 2 is 64.0\n"
     ]
    }
   ],
   "source": [
    "number=float(input(\"enter a number:\")) #makes the input change to a float\n",
    "something=number**2\n",
    "print(number,\"to the power of 2 is\", something)"
   ]
  },
  {
   "cell_type": "code",
   "execution_count": 113,
   "id": "e7751c34-6ba6-49e6-87a5-7d1bc7ac5211",
   "metadata": {},
   "outputs": [
    {
     "name": "stdin",
     "output_type": "stream",
     "text": [
      "enter a number: 34\n",
      "enter another number: 45\n"
     ]
    },
    {
     "name": "stdout",
     "output_type": "stream",
     "text": [
      "The first number is: 34.0 and the second number is: 45.0 \n",
      "Multiplied together it is 1530.0\n"
     ]
    }
   ],
   "source": [
    "number1=float(input(\"enter a number:\"))\n",
    "number2=float(input(\"enter another number:\"))\n",
    "print(\"The first number is:\",number1,\"and the second number is:\",number2,\"\\nMultiplied together it is\", number1*number2)"
   ]
  },
  {
   "cell_type": "markdown",
   "id": "1f22887b-d7d9-4a0c-a175-cb300fc33ce1",
   "metadata": {},
   "source": [
    "##### Pythagoras' Theorem Algorithm"
   ]
  },
  {
   "cell_type": "code",
   "execution_count": 149,
   "id": "525d27d9-f2b3-4dc3-8db8-87ca573c1a48",
   "metadata": {},
   "outputs": [
    {
     "name": "stdout",
     "output_type": "stream",
     "text": [
      "This is a Pythagoras' Theorem Calculator\n"
     ]
    },
    {
     "name": "stdin",
     "output_type": "stream",
     "text": [
      "enter side a: 5\n",
      "enter side b: 12\n"
     ]
    },
    {
     "name": "stdout",
     "output_type": "stream",
     "text": [
      "The hypotenuse is: 13.0\n"
     ]
    }
   ],
   "source": [
    "print(\"This is a Pythagoras' Theorem Calculator\")\n",
    "a=float(input(\"enter side a:\"))\n",
    "b=float(input(\"enter side b:\"))\n",
    "c=(a**2+b**2)**0.5 #a^2 + b^2 = c^2 ##'**0.5' removes the ^2\n",
    "print(\"The hypotenuse is:\", c)"
   ]
  },
  {
   "cell_type": "markdown",
   "id": "dcedc64c-8cff-4aa1-bc30-44d34370f0a4",
   "metadata": {},
   "source": [
    "#### Miles - Kilometers Converter"
   ]
  },
  {
   "cell_type": "markdown",
   "id": "41d7e704-9a03-4641-8abc-0dbec9fd0f76",
   "metadata": {},
   "source": [
    "##### Using if and elif"
   ]
  },
  {
   "cell_type": "code",
   "execution_count": 171,
   "id": "5f13b589-3485-4e20-bf9a-4fbed9962178",
   "metadata": {},
   "outputs": [
    {
     "name": "stdout",
     "output_type": "stream",
     "text": [
      "Miles - Kilometers Converter\n"
     ]
    },
    {
     "name": "stdin",
     "output_type": "stream",
     "text": [
      "Enter a number 6\n",
      "Miles or Kilometers? enter 'm' or 'k' k\n"
     ]
    },
    {
     "name": "stdout",
     "output_type": "stream",
     "text": [
      "kilometers: 6.0 \n",
      "miles: 3.7199999999999998\n"
     ]
    }
   ],
   "source": [
    "print(\"Miles - Kilometers Converter\")\n",
    "number=float(input(\"Enter a number\"))\n",
    "unit=(input(\"Miles or Kilometers? enter 'm' or 'k'\"))\n",
    "if unit==\"m\":\n",
    "    print(\"miles:\",number,\"\\nkilometers:\", number*1.61)\n",
    "elif unit==\"k\":\n",
    "    print(\"kilometers:\",number,\"\\nmiles:\", number*0.62)"
   ]
  },
  {
   "cell_type": "markdown",
   "id": "18239247-7ff6-4ecd-a62c-c67127de8200",
   "metadata": {},
   "source": [
    "##### Using input and print only"
   ]
  },
  {
   "cell_type": "code",
   "execution_count": 173,
   "id": "cf8ce7b2-c092-4629-8bb2-f8d2497a4847",
   "metadata": {},
   "outputs": [
    {
     "name": "stdin",
     "output_type": "stream",
     "text": [
      "enter the number of miles you want to convert to km: 6\n"
     ]
    },
    {
     "name": "stdout",
     "output_type": "stream",
     "text": [
      "6.0 miles is 9.66 kilometers\n"
     ]
    }
   ],
   "source": [
    "miles=float(input(\"enter the number of miles you want to convert to km:\"))\n",
    "km=miles*1.61\n",
    "print(miles,\"miles is\",km,\"kilometers\")"
   ]
  },
  {
   "cell_type": "code",
   "execution_count": 177,
   "id": "3d6d7b3e-36d4-4891-be69-461dd6503f63",
   "metadata": {},
   "outputs": [
    {
     "name": "stdin",
     "output_type": "stream",
     "text": [
      "enter the number of km you want to convert to miles: 6\n"
     ]
    },
    {
     "name": "stdout",
     "output_type": "stream",
     "text": [
      "6.0 km is 3.7199999999999998 miles\n"
     ]
    }
   ],
   "source": [
    "km=float(input(\"enter the number of km you want to convert to miles:\"))\n",
    "miles=km*0.62\n",
    "print(km,\"km is\",miles,\"miles\")"
   ]
  },
  {
   "cell_type": "code",
   "execution_count": null,
   "id": "f19a40c8-c5e0-48d9-806f-9cb101539000",
   "metadata": {},
   "outputs": [],
   "source": []
  }
 ],
 "metadata": {
  "kernelspec": {
   "display_name": "anaconda-panel-2023.05-py310",
   "language": "python",
   "name": "conda-env-anaconda-panel-2023.05-py310-py"
  },
  "language_info": {
   "codemirror_mode": {
    "name": "ipython",
    "version": 3
   },
   "file_extension": ".py",
   "mimetype": "text/x-python",
   "name": "python",
   "nbconvert_exporter": "python",
   "pygments_lexer": "ipython3",
   "version": "3.11.4"
  }
 },
 "nbformat": 4,
 "nbformat_minor": 5
}
